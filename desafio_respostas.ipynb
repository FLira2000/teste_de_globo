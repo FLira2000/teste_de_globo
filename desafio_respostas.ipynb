{
 "cells": [
  {
   "cell_type": "code",
   "execution_count": 1,
   "id": "7e911602-cd10-4986-abfb-7b59f4ffc030",
   "metadata": {
    "tags": []
   },
   "outputs": [],
   "source": [
    "import sqlite3"
   ]
  },
  {
   "cell_type": "code",
   "execution_count": 2,
   "id": "66e63b06-cbfa-4921-88c7-54f70c9c6f44",
   "metadata": {
    "tags": []
   },
   "outputs": [],
   "source": [
    "connection = sqlite3.connect(\"TESTE_GLOBO_DB.db\")"
   ]
  },
  {
   "cell_type": "code",
   "execution_count": 3,
   "id": "3894ccd4-7c8a-494d-a683-3dc179ced685",
   "metadata": {
    "tags": []
   },
   "outputs": [],
   "source": [
    "cursor = connection.cursor()"
   ]
  },
  {
   "cell_type": "markdown",
   "id": "c3d02023-2b32-4522-b4fa-7f602aa79cdf",
   "metadata": {},
   "source": [
    "### 1. O time de negócios precisa tomar uma decisão de quais títulos licenciar e publicar na plataforma no proximo ano, mas para isso eles precisam saber quais os genero mais assistidos.\n"
   ]
  },
  {
   "cell_type": "code",
   "execution_count": 7,
   "id": "7738ce6e-e6dd-48cc-8cee-a0287dcb5107",
   "metadata": {
    "tags": []
   },
   "outputs": [],
   "source": [
    "sql_1 = '''\n",
    "    SELECT \n",
    "        genero, \n",
    "        SUM(horas_assistidas) \n",
    "    FROM dts_channel_analytics \n",
    "    GROUP BY genero \n",
    "    ORDER BY 2 DESC;\n",
    "'''"
   ]
  },
  {
   "cell_type": "code",
   "execution_count": 8,
   "id": "df9d9be0-54d9-4b3b-92f6-16665f362a07",
   "metadata": {
    "tags": []
   },
   "outputs": [],
   "source": [
    "resp1 = cursor.execute(sql_1)"
   ]
  },
  {
   "cell_type": "code",
   "execution_count": 9,
   "id": "1cee8973-caa8-4d80-abe9-cccacfcdd219",
   "metadata": {
    "tags": []
   },
   "outputs": [
    {
     "data": {
      "text/plain": [
       "[('Romance', 260749), ('Mistery', 255284), ('Humor', 254615)]"
      ]
     },
     "execution_count": 9,
     "metadata": {},
     "output_type": "execute_result"
    }
   ],
   "source": [
    "resp1.fetchall()[0:3]"
   ]
  },
  {
   "cell_type": "markdown",
   "id": "b4d41abe-3744-41ef-b51c-493ae945f7ca",
   "metadata": {},
   "source": [
    "Com essa consulta acima conseguimos ver os 3 gêneros mais assistidos. Podemos remover o [0:3] dali afim de consultar tudo, decidi limitar na visualização ao invés da consulta."
   ]
  },
  {
   "cell_type": "markdown",
   "id": "a509b597-a1b8-4d81-92a4-3eddcb2449cc",
   "metadata": {},
   "source": [
    "### 2. O time de marketing quer a lista dos 10 títulos mais assistidos para realizar uma nova campanha de engajamento"
   ]
  },
  {
   "cell_type": "code",
   "execution_count": 10,
   "id": "d1f9dbf4-27e2-4c7d-9126-d577fe24f9bc",
   "metadata": {
    "tags": []
   },
   "outputs": [],
   "source": [
    "sql_2 = '''\n",
    "    SELECT \n",
    "        titulo, \n",
    "        SUM(horas_assistidas) \n",
    "    FROM dts_channel_analytics \n",
    "    GROUP BY titulo \n",
    "    ORDER BY 2 DESC\n",
    "    LIMIT 10;\n",
    "'''"
   ]
  },
  {
   "cell_type": "code",
   "execution_count": 11,
   "id": "a013d48e-6218-45f1-b7ed-ab7915214b09",
   "metadata": {
    "tags": []
   },
   "outputs": [],
   "source": [
    "resp2 = cursor.execute(sql_2)"
   ]
  },
  {
   "cell_type": "code",
   "execution_count": 12,
   "id": "95521550-d807-4830-b0b6-b172f79e8d50",
   "metadata": {
    "tags": []
   },
   "outputs": [
    {
     "data": {
      "text/plain": [
       "[('\\xa0Farmers Of The Mountains', 21623),\n",
       " ('\\xa0Scent Of The Sea', 19674),\n",
       " ('\\xa0Fate Of Shadows', 19468),\n",
       " ('\\xa0Loss', 19458),\n",
       " ('\\xa0Wives And Rebels', 19170),\n",
       " ('\\xa0Rat Of The Eternal', 19079),\n",
       " ('\\xa0Agents Of Heaven', 18933),\n",
       " ('\\xa0 And Dogs', 18638),\n",
       " ('\\xa0Rescue In Nature', 17966),\n",
       " ('\\xa0Attracted To My Future', 17564)]"
      ]
     },
     "execution_count": 12,
     "metadata": {},
     "output_type": "execute_result"
    }
   ],
   "source": [
    "resp2.fetchall()"
   ]
  },
  {
   "cell_type": "markdown",
   "id": "507963cc-9936-4e9c-9731-4117d519d199",
   "metadata": {},
   "source": [
    "Com a consulta acima podemos verificar os 10 gêneros mais assistidos, baseado em horas de streaming."
   ]
  },
  {
   "cell_type": "markdown",
   "id": "c8993c69-497b-490b-887e-06b877636d46",
   "metadata": {},
   "source": [
    "### 3. O time de tecnologia está querendo fazer uma otimização na infraestrutura da plataforma e precisa saber qual foi o data e hora com maior número de usuários assistindo simultaneamente e quantos usuários estavam assistindo neste momento\n"
   ]
  },
  {
   "cell_type": "code",
   "execution_count": 20,
   "id": "7d2fecb8-6647-4c39-afb1-70c5fb1038a2",
   "metadata": {
    "tags": []
   },
   "outputs": [],
   "source": [
    "sql_3 = '''\n",
    "    SELECT \n",
    "        data, \n",
    "        hora, \n",
    "        sum(usuarios_distintos) \n",
    "    FROM dts_channel_analytics \n",
    "    GROUP BY data, hora \n",
    "    ORDER BY 3 desc \n",
    "    LIMIT 1;\n",
    "'''"
   ]
  },
  {
   "cell_type": "code",
   "execution_count": 21,
   "id": "192fc0cc-fd33-493a-a81f-d33273ebaa84",
   "metadata": {
    "tags": []
   },
   "outputs": [],
   "source": [
    "resp_3 = cursor.execute(sql_3)"
   ]
  },
  {
   "cell_type": "code",
   "execution_count": 22,
   "id": "83274854-c362-4665-b38e-878089b9ce03",
   "metadata": {
    "tags": []
   },
   "outputs": [
    {
     "data": {
      "text/plain": [
       "[('2021-11-18 00:00:00', 6, 2146)]"
      ]
     },
     "execution_count": 22,
     "metadata": {},
     "output_type": "execute_result"
    }
   ],
   "source": [
    "resp_3.fetchall()"
   ]
  },
  {
   "cell_type": "markdown",
   "id": "57c7d78a-5450-4cff-a214-862903ff8ba3",
   "metadata": {},
   "source": [
    "Podemos ver com a consulta acima que no dia 18 de novembro de 2021, na hora 6, tivemos 2146 usuários no total, nas 3 plataformas possíveis."
   ]
  },
  {
   "cell_type": "markdown",
   "id": "7b96f4bb-6648-4d75-8ed3-e1de38cad6f1",
   "metadata": {},
   "source": [
    "### 4. Sugira uma possível melhoria na base de dados e explique\n"
   ]
  },
  {
   "cell_type": "markdown",
   "id": "45c38b32-e916-49b5-b6dc-d446f6d9afc6",
   "metadata": {},
   "source": [
    "Não tenho total conhecimento do negócio, mas julgo que talvez fosse mais interessante separar a parte que remete aos dados de horas assistidas e aonde foram assistidas, as qual compreendo como informação não trackeável por marcas de tempo e sim por quantidade de tempo.\n",
    "Isso talvez facilite a leitura futura de outros analistas afim de obter informação sobre mídia consumida.\n",
    "\n",
    "O mesmo se estende para o outro lado da moeda, aonde temos dados de data e também de hora, que apesar de também representarem dados e com certeza se trabalhados nos trazem informação, sendo observados juntamente com os dados de horas assistidas, podem causar certa confusão - pois foi o que senti ao observar rapidamente a massa de dados."
   ]
  },
  {
   "cell_type": "markdown",
   "id": "3aeaee8c-26ac-465f-b0d3-f648ceef2350",
   "metadata": {},
   "source": [
    "### 5. Supondo que a base seja atualizada todo dia com novos dados, que as consultas anteriores que você fez atenderam super bem os times e que agora eles querem receber essas informações diariamente. Descreva qual estratégia você faria para atendê-los.\n"
   ]
  },
  {
   "cell_type": "markdown",
   "id": "0de26ad7-49cf-4886-9a43-02a363604e3f",
   "metadata": {},
   "source": [
    "A estratégia de processamento diário pode ser feita usando uma esteira de processamento clássica(se posso dizer assim) de dados.\n",
    "Uma instância do Airflow com algumas DAGs que realizem as extrações dos dados diários, após isso uma DAG que processe efetivamente o modelo que gera esse dataset, e por fim outra DAG que processe e popule algum dashboard ou envie as informações por Excel para os stakeholders em questão.\n",
    "\n",
    "Essa é uma estratégia clássica que não se aprofunda em absolutamente nada na parte técnica da implementação, e sim observa o que é feito no mercado e traz para a necessidade - afinal uma vez que existam tais necessidades de carregamento diário destes dados, no futuro possam haver novas.\n",
    "\n",
    "Contudo caso não haja budget para implementação de tais coisas, afim de resolver em tempo possa ser melhor apenas utilizar cronjobs que rodem códigos simples que executem essas necessidades, numa VM simples. Mas também não me aprofundarei na parte técnica da implementação, por falta de noção de negócio e de base "
   ]
  }
 ],
 "metadata": {
  "kernelspec": {
   "display_name": "Python 3 (ipykernel)",
   "language": "python",
   "name": "python3"
  },
  "language_info": {
   "codemirror_mode": {
    "name": "ipython",
    "version": 3
   },
   "file_extension": ".py",
   "mimetype": "text/x-python",
   "name": "python",
   "nbconvert_exporter": "python",
   "pygments_lexer": "ipython3",
   "version": "3.11.3"
  }
 },
 "nbformat": 4,
 "nbformat_minor": 5
}
