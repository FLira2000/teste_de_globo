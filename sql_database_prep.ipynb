{
 "cells": [
  {
   "cell_type": "code",
   "execution_count": 87,
   "id": "bc69b4e6-bcd0-405b-8aa8-481d46266de7",
   "metadata": {
    "tags": []
   },
   "outputs": [],
   "source": [
    "import pandas as pd"
   ]
  },
  {
   "cell_type": "code",
   "execution_count": 88,
   "id": "dc8ba86d-c1db-459a-bd5c-3083da820b50",
   "metadata": {
    "tags": []
   },
   "outputs": [],
   "source": [
    "import sqlite3"
   ]
  },
  {
   "cell_type": "code",
   "execution_count": 89,
   "id": "de330775-7bfe-4602-8ec9-7e43c9dae037",
   "metadata": {
    "tags": []
   },
   "outputs": [],
   "source": [
    "excel_df = pd.read_excel(\"teste - dados.xlsx\")"
   ]
  },
  {
   "cell_type": "code",
   "execution_count": 90,
   "id": "a077886e-15cc-4155-b3da-2baa8f299a6f",
   "metadata": {
    "tags": []
   },
   "outputs": [
    {
     "data": {
      "text/html": [
       "<div>\n",
       "<style scoped>\n",
       "    .dataframe tbody tr th:only-of-type {\n",
       "        vertical-align: middle;\n",
       "    }\n",
       "\n",
       "    .dataframe tbody tr th {\n",
       "        vertical-align: top;\n",
       "    }\n",
       "\n",
       "    .dataframe thead th {\n",
       "        text-align: right;\n",
       "    }\n",
       "</style>\n",
       "<table border=\"1\" class=\"dataframe\">\n",
       "  <thead>\n",
       "    <tr style=\"text-align: right;\">\n",
       "      <th></th>\n",
       "      <th>count</th>\n",
       "      <th>mean</th>\n",
       "      <th>std</th>\n",
       "      <th>min</th>\n",
       "      <th>25%</th>\n",
       "      <th>50%</th>\n",
       "      <th>75%</th>\n",
       "      <th>max</th>\n",
       "    </tr>\n",
       "  </thead>\n",
       "  <tbody>\n",
       "    <tr>\n",
       "      <th>hora</th>\n",
       "      <td>5000.0</td>\n",
       "      <td>11.5766</td>\n",
       "      <td>6.921049</td>\n",
       "      <td>0.0</td>\n",
       "      <td>6.0</td>\n",
       "      <td>12.0</td>\n",
       "      <td>17.25</td>\n",
       "      <td>23.0</td>\n",
       "    </tr>\n",
       "    <tr>\n",
       "      <th>ano de lancamento</th>\n",
       "      <td>5000.0</td>\n",
       "      <td>2015.1498</td>\n",
       "      <td>3.272721</td>\n",
       "      <td>2010.0</td>\n",
       "      <td>2012.0</td>\n",
       "      <td>2015.0</td>\n",
       "      <td>2018.00</td>\n",
       "      <td>2020.0</td>\n",
       "    </tr>\n",
       "    <tr>\n",
       "      <th>horas assistidas</th>\n",
       "      <td>5000.0</td>\n",
       "      <td>494.0198</td>\n",
       "      <td>286.937915</td>\n",
       "      <td>0.0</td>\n",
       "      <td>251.0</td>\n",
       "      <td>485.0</td>\n",
       "      <td>740.00</td>\n",
       "      <td>1000.0</td>\n",
       "    </tr>\n",
       "    <tr>\n",
       "      <th>usuarios distintos</th>\n",
       "      <td>5000.0</td>\n",
       "      <td>295.4738</td>\n",
       "      <td>183.521299</td>\n",
       "      <td>0.0</td>\n",
       "      <td>142.0</td>\n",
       "      <td>283.5</td>\n",
       "      <td>427.00</td>\n",
       "      <td>789.0</td>\n",
       "    </tr>\n",
       "  </tbody>\n",
       "</table>\n",
       "</div>"
      ],
      "text/plain": [
       "                     count       mean         std     min     25%     50%  \\\n",
       "hora                5000.0    11.5766    6.921049     0.0     6.0    12.0   \n",
       "ano de lancamento   5000.0  2015.1498    3.272721  2010.0  2012.0  2015.0   \n",
       "horas assistidas    5000.0   494.0198  286.937915     0.0   251.0   485.0   \n",
       "usuarios distintos  5000.0   295.4738  183.521299     0.0   142.0   283.5   \n",
       "\n",
       "                        75%     max  \n",
       "hora                  17.25    23.0  \n",
       "ano de lancamento   2018.00  2020.0  \n",
       "horas assistidas     740.00  1000.0  \n",
       "usuarios distintos   427.00   789.0  "
      ]
     },
     "execution_count": 90,
     "metadata": {},
     "output_type": "execute_result"
    }
   ],
   "source": [
    "excel_df.describe().transpose()"
   ]
  },
  {
   "cell_type": "code",
   "execution_count": 91,
   "id": "bc9bf784-1190-497d-a52a-2df7b0950b3a",
   "metadata": {
    "tags": []
   },
   "outputs": [
    {
     "data": {
      "text/plain": [
       "data                  datetime64[ns]\n",
       "hora                           int64\n",
       "titulo                        object\n",
       "genero                        object\n",
       "ano de lancamento              int64\n",
       "pais de produção              object\n",
       "dispositivo                   object\n",
       "horas assistidas               int64\n",
       "usuarios distintos             int64\n",
       "dtype: object"
      ]
     },
     "execution_count": 91,
     "metadata": {},
     "output_type": "execute_result"
    }
   ],
   "source": [
    "excel_df.dtypes"
   ]
  },
  {
   "cell_type": "code",
   "execution_count": 92,
   "id": "8b82bd02-ceb7-4c20-b07d-70fd993882e9",
   "metadata": {
    "tags": []
   },
   "outputs": [
    {
     "data": {
      "text/html": [
       "<div>\n",
       "<style scoped>\n",
       "    .dataframe tbody tr th:only-of-type {\n",
       "        vertical-align: middle;\n",
       "    }\n",
       "\n",
       "    .dataframe tbody tr th {\n",
       "        vertical-align: top;\n",
       "    }\n",
       "\n",
       "    .dataframe thead th {\n",
       "        text-align: right;\n",
       "    }\n",
       "</style>\n",
       "<table border=\"1\" class=\"dataframe\">\n",
       "  <thead>\n",
       "    <tr style=\"text-align: right;\">\n",
       "      <th></th>\n",
       "      <th>data</th>\n",
       "      <th>hora</th>\n",
       "      <th>titulo</th>\n",
       "      <th>genero</th>\n",
       "      <th>ano de lancamento</th>\n",
       "      <th>pais de produção</th>\n",
       "      <th>dispositivo</th>\n",
       "      <th>horas assistidas</th>\n",
       "      <th>usuarios distintos</th>\n",
       "    </tr>\n",
       "  </thead>\n",
       "  <tbody>\n",
       "    <tr>\n",
       "      <th>0</th>\n",
       "      <td>2021-03-18</td>\n",
       "      <td>2</td>\n",
       "      <td>Temptation In The Attic</td>\n",
       "      <td>Horror</td>\n",
       "      <td>2016</td>\n",
       "      <td>Países Baixos</td>\n",
       "      <td>Web</td>\n",
       "      <td>515</td>\n",
       "      <td>232</td>\n",
       "    </tr>\n",
       "    <tr>\n",
       "      <th>1</th>\n",
       "      <td>2021-08-12</td>\n",
       "      <td>13</td>\n",
       "      <td>Fortunes Of Your Garden</td>\n",
       "      <td>Nonfiction</td>\n",
       "      <td>2020</td>\n",
       "      <td>Suíça</td>\n",
       "      <td>Web</td>\n",
       "      <td>240</td>\n",
       "      <td>182</td>\n",
       "    </tr>\n",
       "    <tr>\n",
       "      <th>2</th>\n",
       "      <td>2021-07-26</td>\n",
       "      <td>8</td>\n",
       "      <td>Owls Of The Stars</td>\n",
       "      <td>Children</td>\n",
       "      <td>2015</td>\n",
       "      <td>Brasil</td>\n",
       "      <td>TV</td>\n",
       "      <td>263</td>\n",
       "      <td>145</td>\n",
       "    </tr>\n",
       "    <tr>\n",
       "      <th>3</th>\n",
       "      <td>2021-08-19</td>\n",
       "      <td>2</td>\n",
       "      <td>Butchers And Bringers</td>\n",
       "      <td>Drama</td>\n",
       "      <td>2010</td>\n",
       "      <td>Coreia do Sul</td>\n",
       "      <td>Mobile</td>\n",
       "      <td>826</td>\n",
       "      <td>380</td>\n",
       "    </tr>\n",
       "    <tr>\n",
       "      <th>4</th>\n",
       "      <td>2021-08-09</td>\n",
       "      <td>18</td>\n",
       "      <td>Ruins Of The Forest</td>\n",
       "      <td>Adventure</td>\n",
       "      <td>2020</td>\n",
       "      <td>Países Baixos</td>\n",
       "      <td>TV</td>\n",
       "      <td>558</td>\n",
       "      <td>268</td>\n",
       "    </tr>\n",
       "    <tr>\n",
       "      <th>5</th>\n",
       "      <td>2021-07-15</td>\n",
       "      <td>2</td>\n",
       "      <td>Pranks Design</td>\n",
       "      <td>Humor</td>\n",
       "      <td>2013</td>\n",
       "      <td>Japão</td>\n",
       "      <td>Web</td>\n",
       "      <td>445</td>\n",
       "      <td>334</td>\n",
       "    </tr>\n",
       "    <tr>\n",
       "      <th>6</th>\n",
       "      <td>2021-10-25</td>\n",
       "      <td>16</td>\n",
       "      <td>Owls Of The Stars</td>\n",
       "      <td>Children</td>\n",
       "      <td>2015</td>\n",
       "      <td>Brasil</td>\n",
       "      <td>Web</td>\n",
       "      <td>404</td>\n",
       "      <td>258</td>\n",
       "    </tr>\n",
       "    <tr>\n",
       "      <th>7</th>\n",
       "      <td>2021-10-07</td>\n",
       "      <td>12</td>\n",
       "      <td>Scent Of The Sea</td>\n",
       "      <td>Romance</td>\n",
       "      <td>2013</td>\n",
       "      <td>Alemanha</td>\n",
       "      <td>TV</td>\n",
       "      <td>478</td>\n",
       "      <td>215</td>\n",
       "    </tr>\n",
       "    <tr>\n",
       "      <th>8</th>\n",
       "      <td>2021-05-17</td>\n",
       "      <td>20</td>\n",
       "      <td>Leaders Of The Past</td>\n",
       "      <td>Nonfiction</td>\n",
       "      <td>2017</td>\n",
       "      <td>Coreia do Sul</td>\n",
       "      <td>Web</td>\n",
       "      <td>519</td>\n",
       "      <td>312</td>\n",
       "    </tr>\n",
       "    <tr>\n",
       "      <th>9</th>\n",
       "      <td>2021-08-09</td>\n",
       "      <td>19</td>\n",
       "      <td>Trinkets In The Hospital</td>\n",
       "      <td>Horror</td>\n",
       "      <td>2015</td>\n",
       "      <td>Brasil</td>\n",
       "      <td>TV</td>\n",
       "      <td>389</td>\n",
       "      <td>214</td>\n",
       "    </tr>\n",
       "  </tbody>\n",
       "</table>\n",
       "</div>"
      ],
      "text/plain": [
       "        data  hora                     titulo      genero  ano de lancamento  \\\n",
       "0 2021-03-18     2    Temptation In The Attic      Horror               2016   \n",
       "1 2021-08-12    13    Fortunes Of Your Garden  Nonfiction               2020   \n",
       "2 2021-07-26     8          Owls Of The Stars    Children               2015   \n",
       "3 2021-08-19     2      Butchers And Bringers       Drama               2010   \n",
       "4 2021-08-09    18        Ruins Of The Forest   Adventure               2020   \n",
       "5 2021-07-15     2              Pranks Design       Humor               2013   \n",
       "6 2021-10-25    16          Owls Of The Stars    Children               2015   \n",
       "7 2021-10-07    12           Scent Of The Sea     Romance               2013   \n",
       "8 2021-05-17    20        Leaders Of The Past  Nonfiction               2017   \n",
       "9 2021-08-09    19   Trinkets In The Hospital      Horror               2015   \n",
       "\n",
       "  pais de produção dispositivo  horas assistidas  usuarios distintos  \n",
       "0    Países Baixos         Web               515                 232  \n",
       "1            Suíça         Web               240                 182  \n",
       "2           Brasil          TV               263                 145  \n",
       "3    Coreia do Sul      Mobile               826                 380  \n",
       "4    Países Baixos          TV               558                 268  \n",
       "5            Japão         Web               445                 334  \n",
       "6           Brasil         Web               404                 258  \n",
       "7         Alemanha          TV               478                 215  \n",
       "8    Coreia do Sul         Web               519                 312  \n",
       "9           Brasil          TV               389                 214  "
      ]
     },
     "execution_count": 92,
     "metadata": {},
     "output_type": "execute_result"
    }
   ],
   "source": [
    "excel_df.head(10)"
   ]
  },
  {
   "cell_type": "code",
   "execution_count": 93,
   "id": "2fc866f8-ad92-49d8-b8be-cb5373bf5b48",
   "metadata": {
    "tags": []
   },
   "outputs": [],
   "source": [
    "conn = sqlite3.connect(\"TESTE_GLOB0_DB.db\")"
   ]
  },
  {
   "cell_type": "code",
   "execution_count": 94,
   "id": "731877a1-9860-4274-9854-a6faf0e7dfe9",
   "metadata": {
    "tags": []
   },
   "outputs": [],
   "source": [
    "cursor = conn.cursor()"
   ]
  },
  {
   "cell_type": "code",
   "execution_count": 95,
   "id": "ab9f4a86-c06c-4b59-881d-bb9c201f2352",
   "metadata": {
    "tags": []
   },
   "outputs": [],
   "source": [
    "sql_create_table = '''\n",
    "    CREATE TABLE dts_channel_analytics(\n",
    "            data TIMESTAMP,\n",
    "            hora INTEGER,\n",
    "            titulo TEXT,\n",
    "            genero TEXT,\n",
    "            ano_lancamento TEXT,\n",
    "            pais_producao TEXT,\n",
    "            dispositivo TEXT, \n",
    "            horas_assistidas INTEGER,\n",
    "            usuarios_distintos INTEGER\n",
    "    );\n",
    "'''"
   ]
  },
  {
   "cell_type": "code",
   "execution_count": 96,
   "id": "3a4dcbc6-34e4-4f0d-821e-2802130b894c",
   "metadata": {
    "tags": []
   },
   "outputs": [],
   "source": [
    "ret = cursor.execute(sql_create_table)"
   ]
  },
  {
   "cell_type": "code",
   "execution_count": 73,
   "id": "b8ae7fee-dc37-4e9a-9cf1-ce82ec2e2ee6",
   "metadata": {
    "tags": []
   },
   "outputs": [],
   "source": [
    "excel_sql_relation_columns = {\n",
    "    \"data\": \"data\",\n",
    "    \"hora\": \"hora\",\n",
    "    \"titulo\": \"titulo\",\n",
    "    \"genero\": \"genero\",\n",
    "    \"ano_lancamento\": \"ano de lancamento\",\n",
    "    \"pais_producao\": \"pais de produção\",\n",
    "    \"dispositivo\": \"dispositivo\",\n",
    "    \"horas_assistidas\": \"horas assistidas\",\n",
    "    \"usuarios_distintos\": \"usuarios distintos\"\n",
    "}"
   ]
  },
  {
   "cell_type": "code",
   "execution_count": 82,
   "id": "46c2e36c-bef6-481e-b9b7-0f5abc9a6ed1",
   "metadata": {
    "tags": []
   },
   "outputs": [],
   "source": [
    "for index, row in excel_df.iterrows():\n",
    "    cursor.execute(f\"\"\" \n",
    "    INSERT INTO dts_channel_analytics(data, hora, titulo, genero, ano_lancamento, pais_producao, dispositivo, horas_assistidas, usuarios_distintos) \n",
    "    VALUES(\n",
    "    '{row[excel_sql_relation_columns[\"data\"]]}',\n",
    "    {row[excel_sql_relation_columns[\"hora\"]]},\n",
    "    '{row[excel_sql_relation_columns[\"titulo\"]]}',\n",
    "    '{row[excel_sql_relation_columns[\"genero\"]]}',\n",
    "    '{row[excel_sql_relation_columns[\"ano_lancamento\"]]}',\n",
    "    '{row[excel_sql_relation_columns[\"pais_producao\"]]}',\n",
    "    '{row[excel_sql_relation_columns[\"dispositivo\"]]}',\n",
    "    {row[excel_sql_relation_columns[\"horas_assistidas\"]]},\n",
    "    {row[excel_sql_relation_columns[\"usuarios_distintos\"]]}\n",
    "    )\n",
    "    \"\"\")"
   ]
  },
  {
   "cell_type": "code",
   "execution_count": 83,
   "id": "d7fb613d-5a2f-47c5-b64b-34d609cd0bdd",
   "metadata": {
    "tags": []
   },
   "outputs": [],
   "source": [
    "res = cursor.execute(\"select * from dts_channel_analytics limit 10\")"
   ]
  },
  {
   "cell_type": "code",
   "execution_count": 84,
   "id": "a0da72af-05a9-465c-961b-2e60f5251ba8",
   "metadata": {
    "tags": []
   },
   "outputs": [
    {
     "data": {
      "text/plain": [
       "[('2021-03-18 00:00:00',\n",
       "  2,\n",
       "  '\\xa0Temptation In The Attic',\n",
       "  'Horror',\n",
       "  '2016',\n",
       "  'Países Baixos',\n",
       "  'Web',\n",
       "  515,\n",
       "  232),\n",
       " ('2021-08-12 00:00:00',\n",
       "  13,\n",
       "  '\\xa0Fortunes Of Your Garden',\n",
       "  'Nonfiction',\n",
       "  '2020',\n",
       "  'Suíça',\n",
       "  'Web',\n",
       "  240,\n",
       "  182),\n",
       " ('2021-07-26 00:00:00',\n",
       "  8,\n",
       "  '\\xa0Owls Of The Stars',\n",
       "  'Children',\n",
       "  '2015',\n",
       "  'Brasil',\n",
       "  'TV',\n",
       "  263,\n",
       "  145),\n",
       " ('2021-08-19 00:00:00',\n",
       "  2,\n",
       "  '\\xa0Butchers And Bringers',\n",
       "  'Drama',\n",
       "  '2010',\n",
       "  'Coreia do Sul',\n",
       "  'Mobile',\n",
       "  826,\n",
       "  380),\n",
       " ('2021-08-09 00:00:00',\n",
       "  18,\n",
       "  '\\xa0Ruins Of The Forest',\n",
       "  'Adventure',\n",
       "  '2020',\n",
       "  'Países Baixos',\n",
       "  'TV',\n",
       "  558,\n",
       "  268),\n",
       " ('2021-07-15 00:00:00',\n",
       "  2,\n",
       "  '\\xa0Pranks Design',\n",
       "  'Humor',\n",
       "  '2013',\n",
       "  'Japão',\n",
       "  'Web',\n",
       "  445,\n",
       "  334),\n",
       " ('2021-10-25 00:00:00',\n",
       "  16,\n",
       "  '\\xa0Owls Of The Stars',\n",
       "  'Children',\n",
       "  '2015',\n",
       "  'Brasil',\n",
       "  'Web',\n",
       "  404,\n",
       "  258),\n",
       " ('2021-10-07 00:00:00',\n",
       "  12,\n",
       "  '\\xa0Scent Of The Sea',\n",
       "  'Romance',\n",
       "  '2013',\n",
       "  'Alemanha',\n",
       "  'TV',\n",
       "  478,\n",
       "  215),\n",
       " ('2021-05-17 00:00:00',\n",
       "  20,\n",
       "  '\\xa0Leaders Of The Past',\n",
       "  'Nonfiction',\n",
       "  '2017',\n",
       "  'Coreia do Sul',\n",
       "  'Web',\n",
       "  519,\n",
       "  312),\n",
       " ('2021-08-09 00:00:00',\n",
       "  19,\n",
       "  '\\xa0Trinkets In The Hospital',\n",
       "  'Horror',\n",
       "  '2015',\n",
       "  'Brasil',\n",
       "  'TV',\n",
       "  389,\n",
       "  214)]"
      ]
     },
     "execution_count": 84,
     "metadata": {},
     "output_type": "execute_result"
    }
   ],
   "source": [
    "res.fetchall()"
   ]
  },
  {
   "cell_type": "code",
   "execution_count": 85,
   "id": "33b0fec3-57aa-4d3c-a8d5-37d6e824c9b1",
   "metadata": {
    "tags": []
   },
   "outputs": [],
   "source": [
    "conn.commit()"
   ]
  },
  {
   "cell_type": "code",
   "execution_count": 86,
   "id": "8690a401-752f-442e-9e5a-375a24ac3e48",
   "metadata": {
    "tags": []
   },
   "outputs": [],
   "source": [
    "conn.close()"
   ]
  }
 ],
 "metadata": {
  "kernelspec": {
   "display_name": "Python 3 (ipykernel)",
   "language": "python",
   "name": "python3"
  },
  "language_info": {
   "codemirror_mode": {
    "name": "ipython",
    "version": 3
   },
   "file_extension": ".py",
   "mimetype": "text/x-python",
   "name": "python",
   "nbconvert_exporter": "python",
   "pygments_lexer": "ipython3",
   "version": "3.11.3"
  }
 },
 "nbformat": 4,
 "nbformat_minor": 5
}
